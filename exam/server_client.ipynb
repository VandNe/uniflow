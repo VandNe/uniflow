{
 "cells": [
  {
   "cell_type": "code",
   "execution_count": 28,
   "metadata": {},
   "outputs": [],
   "source": [
    "%reload_ext autoreload\n",
    "%autoreload 2\n",
    "\n",
    "import sys\n",
    "\n",
    "sys.path.append(\".\")\n",
    "sys.path.append(\"..\")\n",
    "sys.path.append(\"../..\")"
   ]
  },
  {
   "cell_type": "code",
   "execution_count": 29,
   "metadata": {},
   "outputs": [],
   "source": [
    "from uniflow.flow.client import ExpandReduceClient\n",
    "from uniflow.viz import Viz"
   ]
  },
  {
   "cell_type": "code",
   "execution_count": 31,
   "metadata": {},
   "outputs": [
    {
     "name": "stderr",
     "output_type": "stream",
     "text": [
      "[autoreload of uniflow.flow.config failed: Traceback (most recent call last):\n",
      "  File \"C:\\Users\\86137\\AppData\\Roaming\\Python\\Python39\\site-packages\\IPython\\extensions\\autoreload.py\", line 245, in check\n",
      "    superreload(m, reload, self.old_objects)\n",
      "  File \"C:\\Users\\86137\\AppData\\Roaming\\Python\\Python39\\site-packages\\IPython\\extensions\\autoreload.py\", line 410, in superreload\n",
      "    update_generic(old_obj, new_obj)\n",
      "  File \"C:\\Users\\86137\\AppData\\Roaming\\Python\\Python39\\site-packages\\IPython\\extensions\\autoreload.py\", line 347, in update_generic\n",
      "    update(a, b)\n",
      "  File \"C:\\Users\\86137\\AppData\\Roaming\\Python\\Python39\\site-packages\\IPython\\extensions\\autoreload.py\", line 302, in update_class\n",
      "    if update_generic(old_obj, new_obj): continue\n",
      "  File \"C:\\Users\\86137\\AppData\\Roaming\\Python\\Python39\\site-packages\\IPython\\extensions\\autoreload.py\", line 347, in update_generic\n",
      "    update(a, b)\n",
      "  File \"C:\\Users\\86137\\AppData\\Roaming\\Python\\Python39\\site-packages\\IPython\\extensions\\autoreload.py\", line 266, in update_function\n",
      "    setattr(old, name, getattr(new, name))\n",
      "ValueError: __init__() requires a code object with 3 free vars, not 0\n",
      "]\n",
      "[autoreload of uniflow.flow.config failed: Traceback (most recent call last):\n",
      "  File \"C:\\Users\\86137\\AppData\\Roaming\\Python\\Python39\\site-packages\\IPython\\extensions\\autoreload.py\", line 245, in check\n",
      "    superreload(m, reload, self.old_objects)\n",
      "  File \"C:\\Users\\86137\\AppData\\Roaming\\Python\\Python39\\site-packages\\IPython\\extensions\\autoreload.py\", line 410, in superreload\n",
      "    update_generic(old_obj, new_obj)\n",
      "  File \"C:\\Users\\86137\\AppData\\Roaming\\Python\\Python39\\site-packages\\IPython\\extensions\\autoreload.py\", line 347, in update_generic\n",
      "    update(a, b)\n",
      "  File \"C:\\Users\\86137\\AppData\\Roaming\\Python\\Python39\\site-packages\\IPython\\extensions\\autoreload.py\", line 302, in update_class\n",
      "    if update_generic(old_obj, new_obj): continue\n",
      "  File \"C:\\Users\\86137\\AppData\\Roaming\\Python\\Python39\\site-packages\\IPython\\extensions\\autoreload.py\", line 347, in update_generic\n",
      "    update(a, b)\n",
      "  File \"C:\\Users\\86137\\AppData\\Roaming\\Python\\Python39\\site-packages\\IPython\\extensions\\autoreload.py\", line 266, in update_function\n",
      "    setattr(old, name, getattr(new, name))\n",
      "ValueError: __init__() requires a code object with 3 free vars, not 0\n",
      "]\n",
      "[autoreload of uniflow.flow.config failed: Traceback (most recent call last):\n",
      "  File \"C:\\Users\\86137\\AppData\\Roaming\\Python\\Python39\\site-packages\\IPython\\extensions\\autoreload.py\", line 245, in check\n",
      "    superreload(m, reload, self.old_objects)\n",
      "  File \"C:\\Users\\86137\\AppData\\Roaming\\Python\\Python39\\site-packages\\IPython\\extensions\\autoreload.py\", line 410, in superreload\n",
      "    update_generic(old_obj, new_obj)\n",
      "  File \"C:\\Users\\86137\\AppData\\Roaming\\Python\\Python39\\site-packages\\IPython\\extensions\\autoreload.py\", line 347, in update_generic\n",
      "    update(a, b)\n",
      "  File \"C:\\Users\\86137\\AppData\\Roaming\\Python\\Python39\\site-packages\\IPython\\extensions\\autoreload.py\", line 302, in update_class\n",
      "    if update_generic(old_obj, new_obj): continue\n",
      "  File \"C:\\Users\\86137\\AppData\\Roaming\\Python\\Python39\\site-packages\\IPython\\extensions\\autoreload.py\", line 347, in update_generic\n",
      "    update(a, b)\n",
      "  File \"C:\\Users\\86137\\AppData\\Roaming\\Python\\Python39\\site-packages\\IPython\\extensions\\autoreload.py\", line 266, in update_function\n",
      "    setattr(old, name, getattr(new, name))\n",
      "ValueError: __init__() requires a code object with 3 free vars, not 0\n",
      "]\n",
      "[autoreload of uniflow.flow.config failed: Traceback (most recent call last):\n",
      "  File \"C:\\Users\\86137\\AppData\\Roaming\\Python\\Python39\\site-packages\\IPython\\extensions\\autoreload.py\", line 245, in check\n",
      "    superreload(m, reload, self.old_objects)\n",
      "  File \"C:\\Users\\86137\\AppData\\Roaming\\Python\\Python39\\site-packages\\IPython\\extensions\\autoreload.py\", line 410, in superreload\n",
      "    update_generic(old_obj, new_obj)\n",
      "  File \"C:\\Users\\86137\\AppData\\Roaming\\Python\\Python39\\site-packages\\IPython\\extensions\\autoreload.py\", line 347, in update_generic\n",
      "    update(a, b)\n",
      "  File \"C:\\Users\\86137\\AppData\\Roaming\\Python\\Python39\\site-packages\\IPython\\extensions\\autoreload.py\", line 302, in update_class\n",
      "    if update_generic(old_obj, new_obj): continue\n",
      "  File \"C:\\Users\\86137\\AppData\\Roaming\\Python\\Python39\\site-packages\\IPython\\extensions\\autoreload.py\", line 347, in update_generic\n",
      "    update(a, b)\n",
      "  File \"C:\\Users\\86137\\AppData\\Roaming\\Python\\Python39\\site-packages\\IPython\\extensions\\autoreload.py\", line 266, in update_function\n",
      "    setattr(old, name, getattr(new, name))\n",
      "ValueError: __init__() requires a code object with 3 free vars, not 0\n",
      "]\n"
     ]
    },
    {
     "ename": "TypeError",
     "evalue": "__init__() takes 1 positional argument but 3 were given",
     "output_type": "error",
     "traceback": [
      "\u001b[1;31m---------------------------------------------------------------------------\u001b[0m",
      "\u001b[1;31mTypeError\u001b[0m                                 Traceback (most recent call last)",
      "\u001b[1;32m<ipython-input-31-6ce91cf82b6e>\u001b[0m in \u001b[0;36m<module>\u001b[1;34m\u001b[0m\n\u001b[0;32m      1\u001b[0m \u001b[1;32mfrom\u001b[0m \u001b[0muniflow\u001b[0m\u001b[1;33m.\u001b[0m\u001b[0mflow\u001b[0m\u001b[1;33m.\u001b[0m\u001b[0mconfig\u001b[0m \u001b[1;32mimport\u001b[0m \u001b[0mExpandReduceConfig\u001b[0m\u001b[1;33m\u001b[0m\u001b[1;33m\u001b[0m\u001b[0m\n\u001b[1;32m----> 2\u001b[1;33m \u001b[0mclient\u001b[0m \u001b[1;33m=\u001b[0m \u001b[0mExpandReduceClient\u001b[0m\u001b[1;33m(\u001b[0m\u001b[0mExpandReduceConfig\u001b[0m\u001b[1;33m(\u001b[0m\u001b[1;33m)\u001b[0m\u001b[1;33m)\u001b[0m\u001b[1;33m\u001b[0m\u001b[1;33m\u001b[0m\u001b[0m\n\u001b[0m\u001b[0;32m      3\u001b[0m \u001b[0minput\u001b[0m \u001b[1;33m=\u001b[0m \u001b[1;33m[\u001b[0m\u001b[1;33m{\u001b[0m\u001b[1;34m\"How are you?\"\u001b[0m\u001b[1;33m:\u001b[0m \u001b[1;34m\"Fine.\"\u001b[0m\u001b[1;33m,\u001b[0m \u001b[1;34m\"Who are you?\"\u001b[0m\u001b[1;33m:\u001b[0m \u001b[1;34m\"I am Bob.\"\u001b[0m\u001b[1;33m}\u001b[0m\u001b[1;33m,\u001b[0m \u001b[1;33m{\u001b[0m\u001b[1;34m\"Where are you?\"\u001b[0m\u001b[1;33m:\u001b[0m \u001b[1;34m\"I am at home.\"\u001b[0m\u001b[1;33m,\u001b[0m \u001b[1;34m\"What are you doing?\"\u001b[0m\u001b[1;33m:\u001b[0m \u001b[1;34m\"Coding.\"\u001b[0m\u001b[1;33m}\u001b[0m\u001b[1;33m]\u001b[0m\u001b[1;33m\u001b[0m\u001b[1;33m\u001b[0m\u001b[0m\n\u001b[0;32m      4\u001b[0m \u001b[0moutput\u001b[0m \u001b[1;33m=\u001b[0m \u001b[0mclient\u001b[0m\u001b[1;33m.\u001b[0m\u001b[0mrun\u001b[0m\u001b[1;33m(\u001b[0m\u001b[0minput\u001b[0m\u001b[1;33m)\u001b[0m\u001b[1;33m\u001b[0m\u001b[1;33m\u001b[0m\u001b[0m\n",
      "\u001b[1;32mc:\\Users\\86137\\Desktop\\uniflow\\exam\\..\\uniflow\\flow\\client.py\u001b[0m in \u001b[0;36m__init__\u001b[1;34m(self, config)\u001b[0m\n\u001b[0;32m    117\u001b[0m         \"\"\"\n\u001b[0;32m    118\u001b[0m         \u001b[0mself\u001b[0m\u001b[1;33m.\u001b[0m\u001b[0m_config\u001b[0m \u001b[1;33m=\u001b[0m \u001b[0mconfig\u001b[0m\u001b[1;33m\u001b[0m\u001b[1;33m\u001b[0m\u001b[0m\n\u001b[1;32m--> 119\u001b[1;33m         \u001b[0mself\u001b[0m\u001b[1;33m.\u001b[0m\u001b[0m_server\u001b[0m \u001b[1;33m=\u001b[0m \u001b[0mExpandReduceServer\u001b[0m\u001b[1;33m(\u001b[0m\u001b[0masdict\u001b[0m\u001b[1;33m(\u001b[0m\u001b[0mself\u001b[0m\u001b[1;33m.\u001b[0m\u001b[0m_config\u001b[0m\u001b[1;33m)\u001b[0m\u001b[1;33m)\u001b[0m\u001b[1;33m\u001b[0m\u001b[1;33m\u001b[0m\u001b[0m\n\u001b[0m\u001b[0;32m    120\u001b[0m \u001b[1;33m\u001b[0m\u001b[0m\n\u001b[0;32m    121\u001b[0m     \u001b[1;32mdef\u001b[0m \u001b[0mrun\u001b[0m\u001b[1;33m(\u001b[0m\u001b[0mself\u001b[0m\u001b[1;33m,\u001b[0m \u001b[0minput_list\u001b[0m\u001b[1;33m:\u001b[0m \u001b[0mList\u001b[0m\u001b[1;33m[\u001b[0m\u001b[0mMapping\u001b[0m\u001b[1;33m[\u001b[0m\u001b[0mstr\u001b[0m\u001b[1;33m,\u001b[0m \u001b[0mAny\u001b[0m\u001b[1;33m]\u001b[0m\u001b[1;33m]\u001b[0m\u001b[1;33m)\u001b[0m \u001b[1;33m->\u001b[0m \u001b[0mList\u001b[0m\u001b[1;33m[\u001b[0m\u001b[0mMapping\u001b[0m\u001b[1;33m[\u001b[0m\u001b[0mstr\u001b[0m\u001b[1;33m,\u001b[0m \u001b[0mAny\u001b[0m\u001b[1;33m]\u001b[0m\u001b[1;33m]\u001b[0m\u001b[1;33m:\u001b[0m\u001b[1;33m\u001b[0m\u001b[1;33m\u001b[0m\u001b[0m\n",
      "\u001b[1;32mc:\\Users\\86137\\Desktop\\uniflow\\exam\\..\\uniflow\\flow\\server.py\u001b[0m in \u001b[0;36m__init__\u001b[1;34m(self, config)\u001b[0m\n\u001b[0;32m    389\u001b[0m             \u001b[1;32mwith\u001b[0m \u001b[0mOpScope\u001b[0m\u001b[1;33m(\u001b[0m\u001b[0mname\u001b[0m\u001b[1;33m=\u001b[0m\u001b[1;34m\"thread_\"\u001b[0m \u001b[1;33m+\u001b[0m \u001b[0mstr\u001b[0m\u001b[1;33m(\u001b[0m\u001b[0mi\u001b[0m\u001b[1;33m)\u001b[0m\u001b[1;33m)\u001b[0m\u001b[1;33m:\u001b[0m\u001b[1;33m\u001b[0m\u001b[1;33m\u001b[0m\u001b[0m\n\u001b[0;32m    390\u001b[0m                 self._flow_queue.put(\n\u001b[1;32m--> 391\u001b[1;33m                     self._flow_cls(\n\u001b[0m\u001b[0;32m    392\u001b[0m                         \u001b[0mself\u001b[0m\u001b[1;33m.\u001b[0m\u001b[0m_config\u001b[0m\u001b[1;33m.\u001b[0m\u001b[0mprompt_template\u001b[0m\u001b[1;33m,\u001b[0m\u001b[1;33m\u001b[0m\u001b[1;33m\u001b[0m\u001b[0m\n\u001b[0;32m    393\u001b[0m                         \u001b[0mself\u001b[0m\u001b[1;33m.\u001b[0m\u001b[0m_config\u001b[0m\u001b[1;33m.\u001b[0m\u001b[0mmodel_config\u001b[0m\u001b[1;33m,\u001b[0m\u001b[1;33m\u001b[0m\u001b[1;33m\u001b[0m\u001b[0m\n",
      "\u001b[1;31mTypeError\u001b[0m: __init__() takes 1 positional argument but 3 were given"
     ]
    }
   ],
   "source": [
    "from uniflow.flow.config import ExpandReduceConfig\n",
    "client = ExpandReduceClient(ExpandReduceConfig())\n",
    "input = [{\"How are you?\": \"Fine.\", \"Who are you?\": \"I am Bob.\"}, {\"Where are you?\": \"I am at home.\", \"What are you doing?\": \"Coding.\"}]\n",
    "output = client.run(input)"
   ]
  },
  {
   "cell_type": "code",
   "execution_count": 8,
   "metadata": {},
   "outputs": [
    {
     "ename": "NameError",
     "evalue": "name 'output' is not defined",
     "output_type": "error",
     "traceback": [
      "\u001b[1;31m---------------------------------------------------------------------------\u001b[0m",
      "\u001b[1;31mNameError\u001b[0m                                 Traceback (most recent call last)",
      "\u001b[1;32m<ipython-input-8-61353e8b2d5a>\u001b[0m in \u001b[0;36m<module>\u001b[1;34m\u001b[0m\n\u001b[1;32m----> 1\u001b[1;33m \u001b[0moutput\u001b[0m\u001b[1;33m\u001b[0m\u001b[1;33m\u001b[0m\u001b[0m\n\u001b[0m",
      "\u001b[1;31mNameError\u001b[0m: name 'output' is not defined"
     ]
    }
   ],
   "source": [
    "output"
   ]
  },
  {
   "cell_type": "code",
   "execution_count": 5,
   "metadata": {},
   "outputs": [],
   "source": [
    "graph = Viz.to_digraph(output[1][\"root\"])\n"
   ]
  },
  {
   "cell_type": "code",
   "execution_count": 6,
   "metadata": {},
   "outputs": [
    {
     "data": {
      "image/svg+xml": "<?xml version=\"1.0\" encoding=\"UTF-8\" standalone=\"no\"?>\n<!DOCTYPE svg PUBLIC \"-//W3C//DTD SVG 1.1//EN\"\n \"http://www.w3.org/Graphics/SVG/1.1/DTD/svg11.dtd\">\n<!-- Generated by graphviz version 9.0.0 (20230911.1827)\n -->\n<!-- Pages: 1 -->\n<svg width=\"352pt\" height=\"188pt\"\n viewBox=\"0.00 0.00 352.10 188.00\" xmlns=\"http://www.w3.org/2000/svg\" xmlns:xlink=\"http://www.w3.org/1999/xlink\">\n<g id=\"graph0\" class=\"graph\" transform=\"scale(1 1) rotate(0) translate(4 184)\">\n<polygon fill=\"white\" stroke=\"none\" points=\"-4,4 -4,-184 348.1,-184 348.1,4 -4,4\"/>\n<!-- root -->\n<g id=\"node1\" class=\"node\">\n<title>root</title>\n<ellipse fill=\"none\" stroke=\"black\" cx=\"171.55\" cy=\"-162\" rx=\"27\" ry=\"18\"/>\n<text text-anchor=\"middle\" x=\"171.55\" y=\"-156.95\" font-family=\"Times,serif\" font-size=\"14.00\">root</text>\n</g>\n<!-- thread_1/expand_1 -->\n<g id=\"node2\" class=\"node\">\n<title>thread_1/expand_1</title>\n<ellipse fill=\"none\" stroke=\"black\" cx=\"81.55\" cy=\"-90\" rx=\"81.55\" ry=\"18\"/>\n<text text-anchor=\"middle\" x=\"81.55\" y=\"-84.95\" font-family=\"Times,serif\" font-size=\"14.00\">thread_1/expand_1</text>\n</g>\n<!-- root&#45;&gt;thread_1/expand_1 -->\n<g id=\"edge1\" class=\"edge\">\n<title>root&#45;&gt;thread_1/expand_1</title>\n<path fill=\"none\" stroke=\"black\" d=\"M154.62,-147.83C142.67,-138.54 126.33,-125.83 112.13,-114.79\"/>\n<polygon fill=\"black\" stroke=\"black\" points=\"114.42,-112.13 104.37,-108.75 110.12,-117.66 114.42,-112.13\"/>\n</g>\n<!-- thread_1/expand_2 -->\n<g id=\"node3\" class=\"node\">\n<title>thread_1/expand_2</title>\n<ellipse fill=\"none\" stroke=\"black\" cx=\"262.55\" cy=\"-90\" rx=\"81.55\" ry=\"18\"/>\n<text text-anchor=\"middle\" x=\"262.55\" y=\"-84.95\" font-family=\"Times,serif\" font-size=\"14.00\">thread_1/expand_2</text>\n</g>\n<!-- root&#45;&gt;thread_1/expand_2 -->\n<g id=\"edge2\" class=\"edge\">\n<title>root&#45;&gt;thread_1/expand_2</title>\n<path fill=\"none\" stroke=\"black\" d=\"M188.66,-147.83C200.74,-138.54 217.27,-125.83 231.62,-114.79\"/>\n<polygon fill=\"black\" stroke=\"black\" points=\"233.69,-117.62 239.48,-108.75 229.42,-112.07 233.69,-117.62\"/>\n</g>\n<!-- thread_1/reduce_1 -->\n<g id=\"node4\" class=\"node\">\n<title>thread_1/reduce_1</title>\n<ellipse fill=\"none\" stroke=\"black\" cx=\"171.55\" cy=\"-18\" rx=\"79.5\" ry=\"18\"/>\n<text text-anchor=\"middle\" x=\"171.55\" y=\"-12.95\" font-family=\"Times,serif\" font-size=\"14.00\">thread_1/reduce_1</text>\n</g>\n<!-- thread_1/expand_1&#45;&gt;thread_1/reduce_1 -->\n<g id=\"edge3\" class=\"edge\">\n<title>thread_1/expand_1&#45;&gt;thread_1/reduce_1</title>\n<path fill=\"none\" stroke=\"black\" d=\"M102.88,-72.41C114.34,-63.5 128.66,-52.36 141.26,-42.56\"/>\n<polygon fill=\"black\" stroke=\"black\" points=\"143.12,-45.54 148.87,-36.64 138.82,-40.02 143.12,-45.54\"/>\n</g>\n<!-- thread_1/expand_2&#45;&gt;thread_1/reduce_1 -->\n<g id=\"edge4\" class=\"edge\">\n<title>thread_1/expand_2&#45;&gt;thread_1/reduce_1</title>\n<path fill=\"none\" stroke=\"black\" d=\"M240.98,-72.41C229.39,-63.5 214.91,-52.36 202.17,-42.56\"/>\n<polygon fill=\"black\" stroke=\"black\" points=\"204.53,-39.96 194.47,-36.64 200.27,-45.51 204.53,-39.96\"/>\n</g>\n</g>\n</svg>\n",
      "text/plain": [
       "<graphviz.graphs.Digraph at 0x108c3f7f0>"
      ]
     },
     "metadata": {},
     "output_type": "display_data"
    }
   ],
   "source": [
    "display(graph)"
   ]
  }
 ],
 "metadata": {
  "kernelspec": {
   "display_name": "Python ('uniflow')",
   "language": "python",
   "name": "python3"
  },
  "language_info": {
   "codemirror_mode": {
    "name": "ipython",
    "version": 3
   },
   "file_extension": ".py",
   "mimetype": "text/x-python",
   "name": "python",
   "nbconvert_exporter": "python",
   "pygments_lexer": "ipython3",
   "version": "3.9.12"
  },
  "vscode": {
   "interpreter": {
    "hash": "25a19fbe0a9132dfb9279d48d161753c6352f8f9478c2e74383d340069b907c3"
   }
  }
 },
 "nbformat": 4,
 "nbformat_minor": 2
}
